{
 "cells": [
  {
   "cell_type": "markdown",
   "metadata": {},
   "source": [
    "## torch MINST test with fixed random number\n",
    "modified from https://github.com/pytorch/examples/blob/master/mnist/main.py"
   ]
  },
  {
   "cell_type": "code",
   "execution_count": 5,
   "metadata": {},
   "outputs": [],
   "source": [
    "from __future__ import print_function\n",
    "import time\n",
    "import torch\n",
    "import torch.nn as nn\n",
    "import torch.nn.functional as F\n",
    "import torch.optim as optim\n",
    "from torchvision import datasets, transforms"
   ]
  },
  {
   "cell_type": "code",
   "execution_count": 25,
   "metadata": {},
   "outputs": [],
   "source": [
    "class Net(nn.Module):\n",
    "    def __init__(self):\n",
    "        super(Net, self).__init__()\n",
    "        self.conv1 = nn.Conv2d(1, 20, 5, 1)\n",
    "        self.conv2 = nn.Conv2d(20, 50, 5, 1)\n",
    "        self.fc1 = nn.Linear(4*4*50, 500)\n",
    "        self.fc2 = nn.Linear(500, 10)\n",
    "\n",
    "    def forward(self, x):\n",
    "        x = F.relu(self.conv1(x))\n",
    "        x = F.max_pool2d(x, 2, 2)\n",
    "        x = F.relu(self.conv2(x))\n",
    "        x = F.max_pool2d(x, 2, 2)\n",
    "        x = x.view(-1, 4*4*50)\n",
    "        x = F.relu(self.fc1(x))\n",
    "        x = self.fc2(x)\n",
    "        return F.log_softmax(x, dim=1)"
   ]
  },
  {
   "cell_type": "code",
   "execution_count": 26,
   "metadata": {},
   "outputs": [],
   "source": [
    "def train(model, device, train_loader, optimizer, epoch):\n",
    "    model.train()\n",
    "    for batch_idx, (data, target) in enumerate(train_loader):\n",
    "        data, target = data.to(device), target.to(device)\n",
    "        optimizer.zero_grad()\n",
    "        output = model(data)\n",
    "        loss = F.nll_loss(output, target)\n",
    "        loss.backward()\n",
    "        optimizer.step()\n",
    "        if batch_idx % 100 == 0:\n",
    "            print('Train Epoch: {} [{}/{} ({:.0f}%)]\\tLoss: {:.6f}'.format(\n",
    "                epoch, batch_idx * len(data), len(train_loader.dataset),\n",
    "                100. * batch_idx / len(train_loader), loss.item()))"
   ]
  },
  {
   "cell_type": "code",
   "execution_count": 18,
   "metadata": {},
   "outputs": [],
   "source": [
    "def test(model, device, test_loader):\n",
    "    model.eval()\n",
    "    test_loss = 0\n",
    "    correct = 0\n",
    "    with torch.no_grad():\n",
    "        for data, target in test_loader:\n",
    "            data, target = data.to(device), target.to(device)\n",
    "            output = model(data)\n",
    "            test_loss += F.nll_loss(output, target, reduction='sum').item() # sum up batch loss\n",
    "            pred = output.argmax(dim=1, keepdim=True) # get the index of the max log-probability\n",
    "            correct += pred.eq(target.view_as(pred)).sum().item()\n",
    "\n",
    "    test_loss /= len(test_loader.dataset)\n",
    "\n",
    "    print('\\nTest set: Average loss: {:.4f}, Accuracy: {}/{} ({:.0f}%)\\n'.format(\n",
    "        test_loss, correct, len(test_loader.dataset),\n",
    "        100. * correct / len(test_loader.dataset)))"
   ]
  },
  {
   "cell_type": "code",
   "execution_count": 29,
   "metadata": {},
   "outputs": [
    {
     "name": "stdout",
     "output_type": "stream",
     "text": [
      "Train Epoch: 1 [0/60000 (0%)]\tLoss: 2.312251\n",
      "Train Epoch: 1 [6400/60000 (11%)]\tLoss: 0.251984\n",
      "Train Epoch: 1 [12800/60000 (21%)]\tLoss: 0.118899\n",
      "Train Epoch: 1 [19200/60000 (32%)]\tLoss: 0.095119\n",
      "Train Epoch: 1 [25600/60000 (43%)]\tLoss: 0.130210\n",
      "Train Epoch: 1 [32000/60000 (53%)]\tLoss: 0.013047\n",
      "Train Epoch: 1 [38400/60000 (64%)]\tLoss: 0.022289\n",
      "Train Epoch: 1 [44800/60000 (75%)]\tLoss: 0.128738\n",
      "Train Epoch: 1 [51200/60000 (85%)]\tLoss: 0.136889\n",
      "Train Epoch: 1 [57600/60000 (96%)]\tLoss: 0.011894\n",
      "\n",
      "Test set: Average loss: 0.0430, Accuracy: 9860/10000 (99%)\n",
      "\n",
      "Train Epoch: 2 [0/60000 (0%)]\tLoss: 0.037066\n",
      "Train Epoch: 2 [6400/60000 (11%)]\tLoss: 0.022030\n",
      "Train Epoch: 2 [12800/60000 (21%)]\tLoss: 0.069447\n",
      "Train Epoch: 2 [19200/60000 (32%)]\tLoss: 0.026302\n",
      "Train Epoch: 2 [25600/60000 (43%)]\tLoss: 0.007424\n",
      "Train Epoch: 2 [32000/60000 (53%)]\tLoss: 0.026742\n",
      "Train Epoch: 2 [38400/60000 (64%)]\tLoss: 0.030045\n",
      "Train Epoch: 2 [44800/60000 (75%)]\tLoss: 0.175112\n",
      "Train Epoch: 2 [51200/60000 (85%)]\tLoss: 0.002157\n",
      "Train Epoch: 2 [57600/60000 (96%)]\tLoss: 0.008618\n",
      "\n",
      "Test set: Average loss: 0.0505, Accuracy: 9838/10000 (98%)\n",
      "\n"
     ]
    }
   ],
   "source": [
    "# fix random seed for reproducibility\n",
    "device = torch.device(\"cpu\")\n",
    "use_cuda = False\n",
    "torch.manual_seed(200186)\n",
    "\n",
    "nb_epoch = 2\n",
    "\n",
    "kwargs = {'num_workers': 1, 'pin_memory': True} if use_cuda else {}\n",
    "train_loader = torch.utils.data.DataLoader(\n",
    "    datasets.MNIST('../data', train=True, download=True, \n",
    "    transform=transforms.Compose([transforms.ToTensor(),\n",
    "    transforms.Normalize((0.1307,), (0.3081,))])), batch_size=64, shuffle=True, **kwargs)\n",
    "\n",
    "test_loader = torch.utils.data.DataLoader(\n",
    "        datasets.MNIST('../data', train=False, transform=transforms.Compose([transforms.ToTensor(),\n",
    "        transforms.Normalize((0.1307,), (0.3081,))])),\n",
    "        batch_size=1000, shuffle=True, **kwargs)\n",
    "\n",
    "model = Net().to(device)\n",
    "optimizer = optim.Adam(model.parameters(), lr=0.001, weight_decay=0)\n",
    "\n",
    "st_time = time.time()\n",
    "for epoch in range(1, nb_epoch + 1):\n",
    "    train(model, device, train_loader, optimizer, epoch)\n",
    "    test(model, device, test_loader)\n",
    "end_time = time.time()\n",
    "print(\"Elapsed time for training %.2f (s)\" % (end_time - st_time))"
   ]
  },
  {
   "cell_type": "code",
   "execution_count": null,
   "metadata": {},
   "outputs": [],
   "source": []
  }
 ],
 "metadata": {
  "kernelspec": {
   "display_name": "Python 3",
   "language": "python",
   "name": "python3"
  },
  "language_info": {
   "codemirror_mode": {
    "name": "ipython",
    "version": 3
   },
   "file_extension": ".py",
   "mimetype": "text/x-python",
   "name": "python",
   "nbconvert_exporter": "python",
   "pygments_lexer": "ipython3",
   "version": "3.7.3"
  }
 },
 "nbformat": 4,
 "nbformat_minor": 2
}
